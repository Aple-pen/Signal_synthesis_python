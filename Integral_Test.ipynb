{
 "cells": [
  {
   "cell_type": "markdown",
   "source": [
    "## 부정적분 python으로\n",
    "\n",
    "$$ f(x) = x^2 $$ 의  부정적분 구하기"
   ],
   "metadata": {
    "collapsed": false
   }
  },
  {
   "cell_type": "code",
   "execution_count": 2,
   "metadata": {
    "collapsed": true
   },
   "outputs": [],
   "source": [
    "import sympy as sp"
   ]
  },
  {
   "cell_type": "code",
   "execution_count": 4,
   "outputs": [
    {
     "name": "stdout",
     "output_type": "stream",
     "text": [
      "x**3/3\n"
     ]
    }
   ],
   "source": [
    "x = sp.symbols('x')\n",
    "\n",
    "# 함수 정의\n",
    "f = x ** 2\n",
    "\n",
    "#부정적분 계산\n",
    "indefinite_integral = sp.integrate(f,x)\n",
    "\n",
    "#결과 출력\n",
    "print(indefinite_integral)"
   ],
   "metadata": {
    "collapsed": false
   }
  },
  {
   "cell_type": "code",
   "execution_count": 10,
   "outputs": [],
   "source": [
    "# 함수 예시 1: 3x^4 - 5x^3 + 2x^2 - x + 7\n",
    "f1 = 3*x**4 - 5*x**3 + 2*x**2 - x + 7\n",
    "integral_f1 = sp.integrate(f1, x)\n",
    "\n",
    "# 함수 예시 2: 4x^3 + 2x^2 - 6x + 1\n",
    "f2 = 4*x**3 + 2*x**2 - 6*x + 1\n",
    "integral_f2 = sp.integrate(f2, x)\n",
    "\n",
    "# 함수 예시 3: 5x^5 - 3x^4 + x^2 - 4x + 9\n",
    "f3 = 5*x**5 - 3*x**4 + x**2 - 4*x + 9\n",
    "integral_f3 = sp.integrate(f3, x)"
   ],
   "metadata": {
    "collapsed": false
   }
  },
  {
   "cell_type": "code",
   "execution_count": 11,
   "outputs": [
    {
     "name": "stdout",
     "output_type": "stream",
     "text": [
      "3*x**5/5 - 5*x**4/4 + 2*x**3/3 - x**2/2 + 7*x\n",
      "x**4 + 2*x**3/3 - 3*x**2 + x\n",
      "5*x**6/6 - 3*x**5/5 + x**3/3 - 2*x**2 + 9*x\n"
     ]
    }
   ],
   "source": [
    "print(integral_f1)\n",
    "print(integral_f2)\n",
    "print(integral_f3)"
   ],
   "metadata": {
    "collapsed": false
   }
  },
  {
   "cell_type": "code",
   "execution_count": null,
   "outputs": [],
   "source": [],
   "metadata": {
    "collapsed": false
   }
  }
 ],
 "metadata": {
  "kernelspec": {
   "display_name": "Python 3",
   "language": "python",
   "name": "python3"
  },
  "language_info": {
   "codemirror_mode": {
    "name": "ipython",
    "version": 2
   },
   "file_extension": ".py",
   "mimetype": "text/x-python",
   "name": "python",
   "nbconvert_exporter": "python",
   "pygments_lexer": "ipython2",
   "version": "2.7.6"
  }
 },
 "nbformat": 4,
 "nbformat_minor": 0
}
